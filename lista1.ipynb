{
 "cells": [
  {
   "cell_type": "code",
   "execution_count": 6,
   "metadata": {},
   "outputs": [],
   "source": [
    "import pandas as pd\n",
    "import numpy as np\n",
    "from sklearn import linear_model\n",
    "from sklearn.metrics import mean_squared_error, r2_score, log_loss\n",
    "import matplotlib.pyplot as plt"
   ]
  },
  {
   "cell_type": "code",
   "execution_count": 7,
   "metadata": {},
   "outputs": [],
   "source": [
    "df = pd.read_csv('dataset.csv')\n",
    "df['split'] = np.random.randn(df.shape[0], 1)\n",
    "\n",
    "msk = np.random.rand(len(df)) <= 0.8\n",
    "\n",
    "# Gerando w's diferentes para GroundLivingArea \n",
    "groundLivingArea2 = df['GroundLivingArea'] ** 2\n",
    "groundLivingArea3 = df['GroundLivingArea'] ** 3\n",
    "groundLivingArea5 = df['GroundLivingArea'] ** 5\n",
    "groundLivingArea10 = df['GroundLivingArea'] ** 10\n",
    "\n",
    "df['GroundLivingArea2'] = groundLivingArea2\n",
    "df['GroundLivingArea3'] = groundLivingArea3\n",
    "df['GroundLivingArea5'] = groundLivingArea5\n",
    "df['GroundLivingArea10'] = groundLivingArea10\n",
    "\n",
    "# Gerando w's diferentes para BasementArea \n",
    "basementArea2 = df['BasementArea'] ** 2\n",
    "basementArea3 = df['BasementArea'] ** 3\n",
    "basementArea5 = df['BasementArea'] ** 5\n",
    "basementArea10 = df['BasementArea'] ** 10\n",
    "\n",
    "df['BasementArea2'] = basementArea2\n",
    "df['BasementArea3'] = basementArea3\n",
    "df['BasementArea5'] = basementArea5\n",
    "df['BasementArea10'] = basementArea10\n",
    "\n",
    "train = df[msk]\n",
    "test = df[~msk]"
   ]
  },
  {
   "cell_type": "markdown",
   "metadata": {},
   "source": [
    "# Questão 1\n",
    "# 1) Resposta: O Método dos Mínimos Quadrados (MMQ), ou Mínimos Quadrados Ordinários (MQO) ou OLS (do inglês Ordinary Least Squares) é uma técnica de otimização matemática que procura encontrar o melhor ajuste para um conjunto de dados tentando minimizar a soma dos quadrados das diferenças entre o valor estimado e os dados observados (tais diferenças são chamadas resíduos). Ela consiste em um estimador que minimiza a soma dos quadrados dos resíduos da regressão, de forma a maximizar o grau de ajuste do modelo aos dados observados. Um requisito para o método dos mínimos quadrados é que o fator imprevisível (erro) seja distribuído aleatoriamente e essa distribuição seja normal. O Teorema Gauss-Markov garante (embora indiretamente) que o estimador de mínimos quadrados é o estimador não-enviesado de mínima variância linear na variável resposta. O livro de Murphy (2012) explica a derivação em detalhes, expressa pela fórmula: wOLS = (XT * X) − 1XT * y."
   ]
  },
  {
   "cell_type": "markdown",
   "metadata": {},
   "source": [
    "# 1. 2. a) Gerar matrizes com base na variável GroundLivingArea. Para cada, plotar as linhas separando os dados, calcular o NLL. Testar o NLL mais baixo com os dados reais."
   ]
  },
  {
   "cell_type": "code",
   "execution_count": 8,
   "metadata": {},
   "outputs": [
    {
     "name": "stdout",
     "output_type": "stream",
     "text": [
      "Coefficients:  [0.89314952]\n",
      "Mean squared error: 0.07\n",
      "Coefficient of determination: 0.51\n",
      "Coefficients:  [0.0614765]\n",
      "Mean squared error: 0.07\n",
      "Coefficient of determination: 0.51\n",
      "Coefficients:  [0.00562032]\n",
      "Mean squared error: 0.07\n",
      "Coefficient of determination: 0.52\n",
      "Coefficients:  [6.26863536e-05]\n",
      "Mean squared error: 0.07\n",
      "Coefficient of determination: 0.52\n",
      "Coefficients:  [1.37997916e-09]\n",
      "Mean squared error: 0.07\n",
      "Coefficient of determination: 0.50\n"
     ]
    },
    {
     "data": {
      "image/png": "[encoded data removed]",
      "text/plain": [
       "<Figure size 432x288 with 1 Axes>"
      ]
     },
     "metadata": {},
     "output_type": "display_data"
    }
   ],
   "source": [
    "groundLivingMatrixes = ['GroundLivingArea', 'GroundLivingArea2', 'GroundLivingArea3', 'GroundLivingArea5', 'GroundLivingArea10']\n",
    "\n",
    "for matrixItem in groundLivingMatrixes:\n",
    "    regr = linear_model.LinearRegression()\n",
    "\n",
    "    # Treinando o modelo\n",
    "    regr.fit(train[matrixItem].to_numpy().reshape(-1, 1), train['SalePrice'])\n",
    "\n",
    "    # Realizando predições com os dados de teste\n",
    "    salesPrice_pred = regr.predict(test[matrixItem].to_numpy().reshape(-1, 1))\n",
    "\n",
    "    # Coeficientes\n",
    "    print(\"Coefficients: \", regr.coef_)\n",
    "    # Mean squared error\n",
    "    print(\"Mean squared error: %.2f\" % mean_squared_error(test['SalePrice'], salesPrice_pred))\n",
    "    # Coefficient of determination: 1 is perfect prediction\n",
    "    print(\"Coefficient of determination: %.2f\" % r2_score(test['SalePrice'], salesPrice_pred))\n",
    "    # print(\"Log loss: \".format(log_loss(test['SalePrice'], salesPrice_pred)))\n",
    "\n",
    "    # Plot dos gráficos\n",
    "    plt.clf()\n",
    "    plt.scatter(test[matrixItem], test['SalePrice'], color=\"black\")\n",
    "    plt.plot(test[matrixItem], salesPrice_pred, color=\"blue\", linewidth=3)\n",
    "\n",
    "    plt.xticks(())\n",
    "    plt.yticks(())"
   ]
  },
  {
   "cell_type": "markdown",
   "metadata": {},
   "source": [
    "# 1. 2. b) Gerar matrizes com base na variável BasementArea. Para cada, plotar as linhas separando os dados, calcular o NLL. Testar o NLL mais baixo com os dados reais."
   ]
  },
  {
   "cell_type": "code",
   "execution_count": 9,
   "metadata": {},
   "outputs": [
    {
     "name": "stdout",
     "output_type": "stream",
     "text": [
      "Coefficients:  [0.70358316]\n",
      "Mean squared error: 0.10\n",
      "Coefficient of determination: 0.28\n",
      "Coefficients:  [0.05181327]\n",
      "Mean squared error: 0.10\n",
      "Coefficient of determination: 0.29\n",
      "Coefficients:  [0.00503859]\n",
      "Mean squared error: 0.10\n",
      "Coefficient of determination: 0.30\n",
      "Coefficients:  [6.28499527e-05]\n",
      "Mean squared error: 0.10\n",
      "Coefficient of determination: 0.32\n",
      "Coefficients:  [1.76584803e-09]\n",
      "Mean squared error: 0.09\n",
      "Coefficient of determination: 0.35\n"
     ]
    },
    {
     "data": {
      "image/png": "[encoded data removed]",
      "text/plain": [
       "<Figure size 432x288 with 1 Axes>"
      ]
     },
     "metadata": {},
     "output_type": "display_data"
    }
   ],
   "source": [
    "basementAreaMatrixes = ['BasementArea', 'BasementArea2', 'BasementArea3', 'BasementArea5', 'BasementArea10']\n",
    "\n",
    "for matrixItem in basementAreaMatrixes:\n",
    "    regr = linear_model.LinearRegression()\n",
    "\n",
    "    # Treinando o modelo\n",
    "    regr.fit(train[matrixItem].to_numpy().reshape(-1, 1), train['SalePrice'])\n",
    "\n",
    "    # Realizando predições com os dados de teste\n",
    "    salesPrice_pred = regr.predict(test[matrixItem].to_numpy().reshape(-1, 1))\n",
    "\n",
    "    # Coeficientes\n",
    "    print(\"Coefficients: \", regr.coef_)\n",
    "    # Mean squared error\n",
    "    print(\"Mean squared error: %.2f\" % mean_squared_error(test['SalePrice'], salesPrice_pred))\n",
    "    # Coefficient of determination: 1 is perfect prediction\n",
    "    print(\"Coefficient of determination: %.2f\" % r2_score(test['SalePrice'], salesPrice_pred))\n",
    "    # print(\"Log loss: \".format(log_loss(test['SalePrice'], salesPrice_pred)))\n",
    "\n",
    "    # Plot dos gráficos\n",
    "    plt.clf()\n",
    "    plt.scatter(test[matrixItem], test['SalePrice'], color=\"black\")\n",
    "    plt.plot(test[matrixItem], salesPrice_pred, color=\"blue\", linewidth=3)\n",
    "\n",
    "    plt.xticks(())\n",
    "    plt.yticks(())"
   ]
  },
  {
   "cell_type": "markdown",
   "metadata": {},
   "source": [
    "# 1. 2. c) Comparar as predições dos exercícios acima.\n",
    "\n",
    "# Resposta: Apesar da baixa assertividade, escolheria o primeiro modelo por possuir menos erros com os dados utilizados."
   ]
  },
  {
   "cell_type": "markdown",
   "metadata": {},
   "source": [
    "# 1. 2. d) Executar regressão linear com GroudLivingArea e BasementArea."
   ]
  },
  {
   "cell_type": "code",
   "execution_count": 10,
   "metadata": {},
   "outputs": [
    {
     "name": "stdout",
     "output_type": "stream",
     "text": [
      "Coefficients:  [0.69860517 0.42660011]\n",
      "Mean squared error: 0.05\n",
      "Coefficient of determination: 0.61\n",
      "Preço do imóvel contendo GroudLivingArea = 8 e BasementArea = 7.5: [12.79173933]\n"
     ]
    }
   ],
   "source": [
    "regr = linear_model.LinearRegression()\n",
    "\n",
    "# Treinando o modelo\n",
    "regr.fit(train[['GroundLivingArea', 'BasementArea']], train['SalePrice'])\n",
    "\n",
    "# Realizando predições com os dados de teste\n",
    "salesPrice_pred = regr.predict(test[['GroundLivingArea', 'BasementArea']])\n",
    "\n",
    "# Coeficientes\n",
    "print(\"Coefficients: \", regr.coef_)\n",
    "# Mean squared error\n",
    "print(\"Mean squared error: %.2f\" % mean_squared_error(test['SalePrice'], salesPrice_pred))\n",
    "# Coefficient of determination: 1 is perfect prediction\n",
    "print(\"Coefficient of determination: %.2f\" % r2_score(test['SalePrice'], salesPrice_pred))\n",
    "# print(\"Log loss: \".format(log_loss(test['SalePrice'], salesPrice_pred)))\n",
    "\n",
    "# 1. 2. e) Aplicar o modelo para GroudLivingArea = 8 e BasementArea = 7.5.\n",
    "\n",
    "X_predict = [[8, 7.5]]  # put the dates of which you want to predict kwh here\n",
    "y_predict = regr.predict(X_predict)\n",
    "print(\"Preço do imóvel contendo GroudLivingArea = 8 e BasementArea = 7.5: {}\".format(y_predict))"
   ]
  },
  {
   "cell_type": "markdown",
   "metadata": {},
   "source": [
    "# 2. 1 e 2) Resposta:"
   ]
  }
 ],
 "metadata": {
  "interpreter": {
   "hash": "f77f1a70a93a99c8f6aec813a099a573cc21453c402dc28a6e4d959f3bdabbcb"
  },
  "kernelspec": {
   "display_name": "Python 3.7.7 64-bit",
   "language": "python",
   "name": "python3"
  },
  "language_info": {
   "codemirror_mode": {
    "name": "ipython",
    "version": 3
   },
   "file_extension": ".py",
   "mimetype": "text/x-python",
   "name": "python",
   "nbconvert_exporter": "python",
   "pygments_lexer": "ipython3",
   "version": "3.7.7"
  },
  "orig_nbformat": 4
 },
 "nbformat": 4,
 "nbformat_minor": 2
}
